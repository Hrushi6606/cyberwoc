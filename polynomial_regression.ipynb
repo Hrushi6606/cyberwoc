{
 "cells": [
  {
   "cell_type": "code",
   "execution_count": 18,
   "id": "1447c85d-883f-4a32-9171-b27b0b9e661e",
   "metadata": {},
   "outputs": [],
   "source": [
    "import pandas as pd\n",
    "import numpy as np\n",
    "import matplotlib.pyplot as plt"
   ]
  },
  {
   "cell_type": "code",
   "execution_count": 19,
   "id": "5761596e-a6ab-412a-966b-4187f5bc6b1f",
   "metadata": {},
   "outputs": [],
   "source": [
    "def cost(x, y, w, b):\n",
    "    m = x.shape[0]\n",
    "    f_x = np.dot(x, w) + b\n",
    "    cost = np.sum((f_x - y) ** 2)\n",
    "    cost_final = cost / (2 * m)\n",
    "    \n",
    "    return cost_final"
   ]
  },
  {
   "cell_type": "code",
   "execution_count": 20,
   "id": "cfe5c8aa-a9cf-4e3f-a73c-049fca27260f",
   "metadata": {},
   "outputs": [],
   "source": [
    "def cost_reg(x, y, w, b, lambda_):\n",
    "    \n",
    "    m = x.shape[0]\n",
    "    \n",
    "    cost_without = cost(x, y, w, b)\n",
    "    \n",
    "    cost_with = (lambda_/(2*m)) * np.abs(w).sum()\n",
    "    \n",
    "    reg_cost = cost_without + cost_with\n",
    "    \n",
    "    return reg_cost"
   ]
  },
  {
   "cell_type": "code",
   "execution_count": 21,
   "id": "dbeb39cf-d77b-49f8-882b-a9f4f4d9f104",
   "metadata": {},
   "outputs": [],
   "source": [
    "def gradient(x, y, w, b):\n",
    "    \n",
    "    m,n = x.shape\n",
    "    f_x = np.dot(x, w) + b\n",
    "    er = f_x - y\n",
    "    dj_dw = np.dot(x.T, er) / m\n",
    "    dj_db = np.sum(er) / m\n",
    "    \n",
    "    return dj_dw, dj_db"
   ]
  },
  {
   "cell_type": "code",
   "execution_count": 22,
   "id": "e64d1daa-9aed-497c-93a0-e70bb2bd7f18",
   "metadata": {},
   "outputs": [],
   "source": [
    "def grad_reg(x, y, w, b):\n",
    "    \n",
    "    m = x.shape[0]\n",
    "    \n",
    "    dj_dw , dj_db = gradient(x, y, w, b)\n",
    "    \n",
    "    dj_dw_reg = (lambda_ / 2*m)\n",
    "    dj_dw += dj_dw_reg\n",
    "    \n",
    "    return dj_dw, dj_db"
   ]
  },
  {
   "cell_type": "code",
   "execution_count": 23,
   "id": "39174b9c-276e-4347-b95c-b1220cd68dca",
   "metadata": {},
   "outputs": [],
   "source": [
    "def grad_dec(no_of_iterations, x, y, w_ini, b_ini, alpha, cost_interval=10000):\n",
    "    \n",
    "    m = x.shape[0]\n",
    "    w = w_ini\n",
    "    b = b_ini\n",
    "    J = []\n",
    "    \n",
    "    for i in range(no_of_iterations):\n",
    "        \n",
    "        dj_dw, dj_db = grad_reg(x, y, w, b)\n",
    "\n",
    "        w -= alpha * dj_dw\n",
    "        b -= alpha * dj_db\n",
    "        \n",
    "        if i % cost_interval == 0:\n",
    "            cost_ = cost(x, y, w, b)\n",
    "            J.append(cost_)\n",
    "    return w, b , J"
   ]
  },
  {
   "cell_type": "code",
   "execution_count": 24,
   "id": "b1a84a8e-63b8-4bb4-a83c-2d88b6f22fea",
   "metadata": {},
   "outputs": [],
   "source": [
    "def zscore_normalize(X):\n",
    "    \n",
    "    X_mean = np.mean(X, axis=0)\n",
    "    X_std = np.std(X, axis=0)\n",
    "    X_norm = (X - X_mean) / X_std\n",
    "    \n",
    "    return X_norm"
   ]
  },
  {
   "cell_type": "code",
   "execution_count": 25,
   "id": "9b1823f5-fa5a-4edd-b188-e1acfeda117e",
   "metadata": {},
   "outputs": [],
   "source": [
    "def split_train_test_cv(X, y, test_size=0.2, cv_size=0.2, random_state=None):\n",
    "    \"\"\"Splits the dataset into training, testing, and cross-validation sets.\"\"\"\n",
    "    if random_state is not None:\n",
    "        np.random.seed(random_state)\n",
    "    n_samples = X.shape[0]\n",
    "    n_test = int(n_samples * test_size)\n",
    "    n_cv = int(n_samples * cv_size)\n",
    "    test_indices = np.random.choice(n_samples, n_test, replace=False)\n",
    "    cv_indices = np.random.choice(np.setdiff1d(np.arange(n_samples), test_indices), n_cv, replace=False)\n",
    "    train_indices = np.setdiff1d(np.arange(n_samples), np.concatenate((test_indices, cv_indices)))\n",
    "    X_train, y_train = X[train_indices], y[train_indices]\n",
    "    X_test, y_test = X[test_indices], y[test_indices]\n",
    "    X_cv, y_cv = X[cv_indices], y[cv_indices]\n",
    "    return X_train, X_test, X_cv, y_train, y_test, y_cv\n"
   ]
  },
  {
   "cell_type": "code",
   "execution_count": 26,
   "id": "952f816c-2cd1-4ff9-b8e3-e286162d1068",
   "metadata": {},
   "outputs": [],
   "source": [
    "data = pd.read_csv('polynomial_train.csv')\n",
    "df = data.to_numpy()"
   ]
  },
  {
   "cell_type": "code",
   "execution_count": 27,
   "id": "8f0f8c3e-7378-44a0-bd6c-0ce3aae6c9fe",
   "metadata": {},
   "outputs": [],
   "source": [
    "x_train = df[0:30000, 0:3]\n",
    "x_cv = df[30000:40000, 0:3]\n",
    "x_test = df[40000:50001, 0:3]\n",
    "y_train = df[0:30000, 3]\n",
    "y_cv = df[30000:40000, 3]\n",
    "y_test = df[40000:50001, 3]\n",
    "\n",
    "X1 = x_train[:, 0]\n",
    "X2 = x_train[:, 1]\n",
    "X3 = x_train[:, 2]\n",
    "\n",
    "X4 = x_test[:, 0]\n",
    "X5 = x_test[:, 1]\n",
    "X6 = x_test[:, 2]\n",
    "\n",
    "X7 = x_cv[:, 0]\n",
    "X8 = x_cv[:, 1]\n",
    "X9 = x_cv[:, 2]\n",
    "\n",
    "terms_train = [X1**i * X2**j * X3**k for i in range(6) for j in range(6) for k in range(6) if i+j+k <= 5 and i+j+k >= 1]\n",
    "terms_test = [X4**i * X5**j * X6**k for i in range(6) for j in range(6) for k in range(6) if i+j+k <= 5 and i+j+k >= 1]\n",
    "terms_cv = [X7**i * X8**j * X9**k for i in range(8) for j in range(6) for k in range(6) if i+j+k <= 5 and i+j+k >= 1]\n",
    "\n",
    "X_train = np.array(terms_train).T\n",
    "X_test = np.array(terms_test).T\n",
    "X_cv = np.array(terms_cv).T"
   ]
  },
  {
   "cell_type": "code",
   "execution_count": 33,
   "id": "80d1e672-0ee9-4a0d-b2ff-cb324d01c638",
   "metadata": {},
   "outputs": [
    {
     "name": "stdout",
     "output_type": "stream",
     "text": [
      "final matrix of w is [ 1.28021335e-29 -2.85851747e-27  6.48361835e-25 -1.55964527e-22\n",
      "  3.95458938e-20  4.12601349e-29 -5.49543864e-27  9.37407872e-25\n",
      " -1.78245134e-22  3.68758469e-20 -4.68413336e-27  2.63119938e-24\n",
      " -6.88777383e-22  1.75089015e-19  7.14434367e-23 -1.00519861e-20\n",
      "  1.80316028e-18  3.70865424e-20 -3.68379264e-18  1.79020021e-16\n",
      "  1.69575182e-28 -2.36930014e-26  4.44660792e-24 -9.27604521e-22\n",
      "  2.09046605e-19  1.48301884e-25 -1.90902818e-23  3.32205841e-21\n",
      " -6.50662828e-19  3.63510151e-22 -5.11450347e-20  9.16596273e-18\n",
      "  4.31120011e-19 -6.12388837e-17  1.03718890e-15 -2.63120589e-24\n",
      "  5.44028900e-22 -1.14676850e-19  2.59413641e-17  1.68702864e-21\n",
      " -2.15802764e-19  3.72300178e-17 -9.37394139e-20  9.95423148e-17\n",
      "  2.87415558e-15  6.81553965e-21 -9.43583394e-19  1.95739263e-16\n",
      "  5.91720709e-18 -6.98209174e-16  1.42890468e-14 -1.43400220e-16\n",
      "  3.03363449e-14  9.34418502e-14  3.99736367e-13] and final value of b is 1.0\n"
     ]
    }
   ],
   "source": [
    "n = X_train.shape[1]\n",
    "w_ini = np.zeros(n)\n",
    "b = 1\n",
    "alpha = 0.00000000000000000000000000000000000007\n",
    "lambda_ = 7\n",
    "w, b, J = grad_dec(no_of_iterations = 100, x = X_train_res, y = y_train, w_ini = w_ini, b_ini = b, alpha = alpha)\n",
    "print(f\"final matrix of w is {w} and final value of b is {b}\")"
   ]
  },
  {
   "cell_type": "code",
   "execution_count": 29,
   "id": "40beab24-4c63-4678-ba44-9974bc392348",
   "metadata": {},
   "outputs": [
    {
     "name": "stdout",
     "output_type": "stream",
     "text": [
      "RMSE: 2457.48\n"
     ]
    }
   ],
   "source": [
    "y_train_out = np.dot(X_train, w) + b\n",
    "rmse = np.sqrt(np.mean((y_train - y_train_out)**2))\n",
    "print(f\"RMSE: {rmse:.2f}\")"
   ]
  },
  {
   "cell_type": "code",
   "execution_count": 30,
   "id": "dfe0565e-526c-453a-bdb2-54299e862e1e",
   "metadata": {},
   "outputs": [
    {
     "name": "stdout",
     "output_type": "stream",
     "text": [
      "RMSE: 2497.86\n"
     ]
    }
   ],
   "source": [
    "y_cv_out = np.dot(X_cv, w) + b\n",
    "rmse = np.sqrt(np.mean((y_cv - y_cv_out)**2))\n",
    "print(f\"RMSE: {rmse:.2f}\")"
   ]
  },
  {
   "cell_type": "code",
   "execution_count": 31,
   "id": "3d73294a-7039-4881-87f4-4a0085c6cd49",
   "metadata": {},
   "outputs": [
    {
     "name": "stdout",
     "output_type": "stream",
     "text": [
      "RMSE: 2878.81\n"
     ]
    }
   ],
   "source": [
    "y_test_out = np.dot(X_test, w) + b\n",
    "rmse = np.sqrt(np.mean((y_test - y_test_out)**2))\n",
    "print(f\"RMSE: {rmse:.2f}\")"
   ]
  },
  {
   "cell_type": "code",
   "execution_count": null,
   "id": "2f4b4fe5-9db3-4271-b05a-cf0b313b9a9c",
   "metadata": {},
   "outputs": [],
   "source": []
  }
 ],
 "metadata": {
  "kernelspec": {
   "display_name": "Python 3 (ipykernel)",
   "language": "python",
   "name": "python3"
  },
  "language_info": {
   "codemirror_mode": {
    "name": "ipython",
    "version": 3
   },
   "file_extension": ".py",
   "mimetype": "text/x-python",
   "name": "python",
   "nbconvert_exporter": "python",
   "pygments_lexer": "ipython3",
   "version": "3.9.13"
  }
 },
 "nbformat": 4,
 "nbformat_minor": 5
}
